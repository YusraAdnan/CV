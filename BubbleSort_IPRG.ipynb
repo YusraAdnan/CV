{
  "nbformat": 4,
  "nbformat_minor": 0,
  "metadata": {
    "colab": {
      "provenance": [],
      "authorship_tag": "ABX9TyPgxKJX3cVF1n+C10kUIxd5",
      "include_colab_link": true
    },
    "kernelspec": {
      "name": "python3",
      "display_name": "Python 3"
    },
    "language_info": {
      "name": "python"
    }
  },
  "cells": [
    {
      "cell_type": "markdown",
      "metadata": {
        "id": "view-in-github",
        "colab_type": "text"
      },
      "source": [
        "<a href=\"https://colab.research.google.com/github/YusraAdnan/CV/blob/master/BubbleSort_IPRG.ipynb\" target=\"_parent\"><img src=\"https://colab.research.google.com/assets/colab-badge.svg\" alt=\"Open In Colab\"/></a>"
      ]
    },
    {
      "cell_type": "code",
      "source": [
        "import numpy as np\n",
        "\n",
        "result = [90,85,65,95,75]\n",
        "OuterLoopCount = 0\n",
        "while OuterLoopCount < len(result) - 1:\n",
        "    InnerLoopCount = 0\n",
        "    while InnerLoopCount < len(result) - 1:  # Adjust loop limit\n",
        "        if result[InnerLoopCount] > result[InnerLoopCount + 1]:\n",
        "            # Swap elements if they are in the wrong order\n",
        "            temp = result[InnerLoopCount]\n",
        "            result[InnerLoopCount] = result[InnerLoopCount + 1]\n",
        "            result[InnerLoopCount + 1] = temp\n",
        "            #endif\n",
        "        print(\"OuterLoopCount \" + str(OuterLoopCount) , \"InnerLoopCount \" + str(InnerLoopCount), result)\n",
        "        InnerLoopCount = InnerLoopCount + 1\n",
        "        #endwhile innerloop\n",
        "    OuterLoopCount = OuterLoopCount + 1\n",
        "    #endwhile outerloop\n",
        "\n",
        "print(\"Sorted Result:\", result)\n"
      ],
      "metadata": {
        "colab": {
          "base_uri": "https://localhost:8080/"
        },
        "id": "be5lA_KbBDHo",
        "outputId": "0c692627-9abb-4a79-f6df-98de04b31b63"
      },
      "execution_count": 21,
      "outputs": [
        {
          "output_type": "stream",
          "name": "stdout",
          "text": [
            "OuterLoopCount 0 InnerLoopCount 0 [85, 90, 65, 95, 75]\n",
            "OuterLoopCount 0 InnerLoopCount 1 [85, 65, 90, 95, 75]\n",
            "OuterLoopCount 0 InnerLoopCount 2 [85, 65, 90, 95, 75]\n",
            "OuterLoopCount 0 InnerLoopCount 3 [85, 65, 90, 75, 95]\n",
            "OuterLoopCount 1 InnerLoopCount 0 [65, 85, 90, 75, 95]\n",
            "OuterLoopCount 1 InnerLoopCount 1 [65, 85, 90, 75, 95]\n",
            "OuterLoopCount 1 InnerLoopCount 2 [65, 85, 75, 90, 95]\n",
            "OuterLoopCount 1 InnerLoopCount 3 [65, 85, 75, 90, 95]\n",
            "OuterLoopCount 2 InnerLoopCount 0 [65, 85, 75, 90, 95]\n",
            "OuterLoopCount 2 InnerLoopCount 1 [65, 75, 85, 90, 95]\n",
            "OuterLoopCount 2 InnerLoopCount 2 [65, 75, 85, 90, 95]\n",
            "OuterLoopCount 2 InnerLoopCount 3 [65, 75, 85, 90, 95]\n",
            "OuterLoopCount 3 InnerLoopCount 0 [65, 75, 85, 90, 95]\n",
            "OuterLoopCount 3 InnerLoopCount 1 [65, 75, 85, 90, 95]\n",
            "OuterLoopCount 3 InnerLoopCount 2 [65, 75, 85, 90, 95]\n",
            "OuterLoopCount 3 InnerLoopCount 3 [65, 75, 85, 90, 95]\n",
            "Sorted Result: [65, 75, 85, 90, 95]\n"
          ]
        }
      ]
    }
  ]
}